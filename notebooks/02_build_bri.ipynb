{
  "cells": [
    {
      "cell_type": "markdown",
      "metadata": {},
      "source": [
        "# Build Behavioral Risk Index (BRI)\n",
        "\n",
        "This notebook demonstrates the BRI construction process using entropy and cluster-based methods.\n"
      ]
    },
    {
      "cell_type": "code",
      "execution_count": null,
      "metadata": {},
      "outputs": [],
      "source": [
        "import sys\n",
        "import os\n",
        "import pandas as pd\n",
        "import numpy as np\n",
        "import matplotlib.pyplot as plt\n",
        "import seaborn as sns\n",
        "\n",
        "sys.path.append(os.path.join('..', 'src'))\n",
        "\n",
        "from preprocess import TextPreprocessor\n",
        "from vectorize import Vectorizer\n",
        "from bri import BRICalculator\n",
        "from utils import setup_logging, load_config\n",
        "\n",
        "plt.style.use('seaborn-v0_8')\n",
        "config = load_config('../config.yaml')\n",
        "logger = setup_logging('INFO')\n"
      ]
    }
  ],
  "metadata": {
    "language_info": {
      "name": "python"
    }
  },
  "nbformat": 4,
  "nbformat_minor": 2
}
