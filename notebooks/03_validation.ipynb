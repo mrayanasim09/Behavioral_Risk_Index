{
  "cells": [
    {
      "cell_type": "markdown",
      "metadata": {},
      "source": [
        "# BRI Validation and Econometric Analysis\n",
        "\n",
        "This notebook demonstrates the validation of the Behavioral Risk Index (BRI) through econometric analysis, including correlation analysis, Granger causality tests, and forecasting evaluation.\n"
      ]
    },
    {
      "cell_type": "code",
      "execution_count": null,
      "metadata": {},
      "outputs": [],
      "source": [
        "import sys\n",
        "import os\n",
        "import pandas as pd\n",
        "import numpy as np\n",
        "import matplotlib.pyplot as plt\n",
        "import seaborn as sns\n",
        "from scipy import stats\n",
        "\n",
        "sys.path.append(os.path.join('..', 'src'))\n",
        "\n",
        "from validation import ValidationEngine\n",
        "from utils import setup_logging, load_config\n",
        "\n",
        "plt.style.use('seaborn-v0_8')\n",
        "config = load_config('../config.yaml')\n",
        "logger = setup_logging('INFO')\n"
      ]
    }
  ],
  "metadata": {
    "language_info": {
      "name": "python"
    }
  },
  "nbformat": 4,
  "nbformat_minor": 2
}
