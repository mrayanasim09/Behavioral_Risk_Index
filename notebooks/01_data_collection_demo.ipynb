{
  "cells": [
    {
      "cell_type": "markdown",
      "metadata": {},
      "source": [
        "# Data Collection Demo\n",
        "\n",
        "This notebook demonstrates the data collection process for the Behavioral Risk Index (BRI) pipeline.\n",
        "\n",
        "## Overview\n",
        "\n",
        "The BRI pipeline collects data from multiple sources:\n",
        "1. **Market Data**: S&P 500, VIX, Treasury yields\n",
        "2. **News Data**: GDELT API for financial news\n",
        "3. **Social Media**: Reddit and Twitter data\n",
        "\n",
        "## Setup\n"
      ]
    },
    {
      "cell_type": "code",
      "execution_count": null,
      "metadata": {},
      "outputs": [],
      "source": [
        "import sys\n",
        "import os\n",
        "import pandas as pd\n",
        "import numpy as np\n",
        "import matplotlib.pyplot as plt\n",
        "import seaborn as sns\n",
        "from datetime import datetime, timedelta\n",
        "\n",
        "# Add src to path\n",
        "sys.path.append(os.path.join('..', 'src'))\n",
        "\n",
        "from data_collect import DataCollector\n",
        "from utils import setup_logging, load_config\n",
        "\n",
        "# Setup\n",
        "plt.style.use('seaborn-v0_8')\n",
        "pd.set_option('display.max_columns', None)\n",
        "pd.set_option('display.width', None)\n",
        "\n",
        "# Load configuration\n",
        "config = load_config('../config.yaml')\n",
        "logger = setup_logging('INFO')\n"
      ]
    }
  ],
  "metadata": {
    "language_info": {
      "name": "python"
    }
  },
  "nbformat": 4,
  "nbformat_minor": 2
}
